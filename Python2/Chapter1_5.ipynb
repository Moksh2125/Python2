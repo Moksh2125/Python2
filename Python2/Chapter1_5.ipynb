{
 "cells": [
  {
   "cell_type": "code",
   "execution_count": 16,
   "metadata": {},
   "outputs": [
    {
     "name": "stdout",
     "output_type": "stream",
     "text": [
      "movie    45\n",
      "lead     45\n",
      "dtype: int64\n"
     ]
    }
   ],
   "source": [
    "import pandas as pd\n",
    "dataset = pd.read_csv(\"bollywood.csv\")\n",
    "print(dataset[dataset['lead'] == 'Amitabh Bachchan'].count())"
   ]
  },
  {
   "cell_type": "code",
   "execution_count": 20,
   "metadata": {},
   "outputs": [
    {
     "name": "stdout",
     "output_type": "stream",
     "text": [
      "1494    Amitabh Bachchan\n",
      "Name: lead, dtype: object\n"
     ]
    }
   ],
   "source": [
    "import pandas as pd\n",
    "dataset = pd.read_csv(\"bollywood.csv\")\n",
    "print(dataset[dataset['movie'] == 'Kaante']['lead'])"
   ]
  },
  {
   "cell_type": "code",
   "execution_count": 21,
   "metadata": {},
   "outputs": [
    {
     "name": "stdout",
     "output_type": "stream",
     "text": [
      "                                   title_x     imdb_id  \\\n",
      "0                 Uri: The Surgical Strike   tt8291224   \n",
      "1                            Battalion 609   tt9472208   \n",
      "2     The Accidental Prime Minister (film)   tt6986710   \n",
      "3                          Why Cheat India   tt8108208   \n",
      "4                          Evening Shadows   tt6028796   \n",
      "...                                    ...         ...   \n",
      "1624                 Tera Mera Saath Rahen   tt0301250   \n",
      "1625                  Yeh Zindagi Ka Safar   tt0298607   \n",
      "1626                       Sabse Bada Sukh   tt0069204   \n",
      "1627                                 Daaka  tt10833860   \n",
      "1628                              Humsafar   tt2403201   \n",
      "\n",
      "                                            poster_path  \\\n",
      "0     https://upload.wikimedia.org/wikipedia/en/thum...   \n",
      "1                                                   NaN   \n",
      "2     https://upload.wikimedia.org/wikipedia/en/thum...   \n",
      "3     https://upload.wikimedia.org/wikipedia/en/thum...   \n",
      "4                                                   NaN   \n",
      "...                                                 ...   \n",
      "1624  https://upload.wikimedia.org/wikipedia/en/2/2b...   \n",
      "1625  https://upload.wikimedia.org/wikipedia/en/thum...   \n",
      "1626                                                NaN   \n",
      "1627  https://upload.wikimedia.org/wikipedia/en/thum...   \n",
      "1628  https://upload.wikimedia.org/wikipedia/en/thum...   \n",
      "\n",
      "                                              wiki_link  \\\n",
      "0     https://en.wikipedia.org/wiki/Uri:_The_Surgica...   \n",
      "1           https://en.wikipedia.org/wiki/Battalion_609   \n",
      "2     https://en.wikipedia.org/wiki/The_Accidental_P...   \n",
      "3         https://en.wikipedia.org/wiki/Why_Cheat_India   \n",
      "4         https://en.wikipedia.org/wiki/Evening_Shadows   \n",
      "...                                                 ...   \n",
      "1624  https://en.wikipedia.org/wiki/Tera_Mera_Saath_...   \n",
      "1625  https://en.wikipedia.org/wiki/Yeh_Zindagi_Ka_S...   \n",
      "1626      https://en.wikipedia.org/wiki/Sabse_Bada_Sukh   \n",
      "1627                https://en.wikipedia.org/wiki/Daaka   \n",
      "1628             https://en.wikipedia.org/wiki/Humsafar   \n",
      "\n",
      "                            title_y                 original_title  is_adult  \\\n",
      "0          Uri: The Surgical Strike       Uri: The Surgical Strike         0   \n",
      "1                     Battalion 609                  Battalion 609         0   \n",
      "2     The Accidental Prime Minister  The Accidental Prime Minister         0   \n",
      "3                   Why Cheat India                Why Cheat India         0   \n",
      "4                   Evening Shadows                Evening Shadows         0   \n",
      "...                             ...                            ...       ...   \n",
      "1624          Tera Mera Saath Rahen          Tera Mera Saath Rahen         0   \n",
      "1625           Yeh Zindagi Ka Safar           Yeh Zindagi Ka Safar         0   \n",
      "1626                Sabse Bada Sukh                Sabse Bada Sukh         0   \n",
      "1627                          Daaka                          Daaka         0   \n",
      "1628                       Humsafar                       Humsafar         0   \n",
      "\n",
      "      year_of_release runtime            genres  imdb_rating  imdb_votes  \\\n",
      "0                2019     138  Action|Drama|War          8.4       35112   \n",
      "1                2019     131               War          4.1          73   \n",
      "2                2019     112   Biography|Drama          6.1        5549   \n",
      "3                2019     121       Crime|Drama          6.0        1891   \n",
      "4                2018     102             Drama          7.3         280   \n",
      "...               ...     ...               ...          ...         ...   \n",
      "1624             2001     148             Drama          4.9         278   \n",
      "1625             2001     146             Drama          3.0         133   \n",
      "1626             2018      \\N      Comedy|Drama          6.1          13   \n",
      "1627             2019     136            Action          7.4          38   \n",
      "1628             2011      35     Drama|Romance          9.0        2968   \n",
      "\n",
      "                                                  story  \\\n",
      "0     Divided over five chapters  the film chronicle...   \n",
      "1     The story revolves around a cricket match betw...   \n",
      "2     Based on the memoir by Indian policy analyst S...   \n",
      "3     The movie focuses on existing malpractices in ...   \n",
      "4     While gay rights and marriage equality has bee...   \n",
      "...                                                 ...   \n",
      "1624  Raj Dixit lives with his younger brother  Rahu...   \n",
      "1625  Hindi pop-star  Sarina Devan  lives a wealthy ...   \n",
      "1626  Village born Lalloo re-locates to Bombay  and ...   \n",
      "1627  Shinda tries robbing a bank so he can be wealt...   \n",
      "1628  Sara and Ashar are childhood friends who share...   \n",
      "\n",
      "                                                summary tagline  \\\n",
      "0     Indian army special forces execute a covert op...     NaN   \n",
      "1     The story of Battalion 609 revolves around a c...     NaN   \n",
      "2     Explores Manmohan Singh's tenure as the Prime ...     NaN   \n",
      "3     The movie focuses on existing malpractices in ...     NaN   \n",
      "4     Under the 'Evening Shadows'  truth often plays...     NaN   \n",
      "...                                                 ...     ...   \n",
      "1624  A man is torn between his handicapped brother ...     NaN   \n",
      "1625  A singer finds out she was adopted when the ed...     NaN   \n",
      "1626  Village born Lalloo re-locates to Bombay  and ...     NaN   \n",
      "1627  Shinda tries robbing a bank so he can be wealt...     NaN   \n",
      "1628  Ashar and Khirad are forced to get married due...     NaN   \n",
      "\n",
      "                                                 actors  \\\n",
      "0     Vicky Kaushal|Paresh Rawal|Mohit Raina|Yami Ga...   \n",
      "1     Vicky Ahuja|Shoaib Ibrahim|Shrikant Kamat|Elen...   \n",
      "2     Anupam Kher|Akshaye Khanna|Aahana Kumra|Atul S...   \n",
      "3     Emraan Hashmi|Shreya Dhanwanthary|Snighdadeep ...   \n",
      "4     Mona Ambegaonkar|Ananth Narayan Mahadevan|Deva...   \n",
      "...                                                 ...   \n",
      "1624  Ajay Devgn|Sonali Bendre|Namrata Shirodkar|Pre...   \n",
      "1625  Ameesha Patel|Jimmy Sheirgill|Nafisa Ali|Gulsh...   \n",
      "1626  Vijay Arora|Asrani|Rajni Bala|Kumud Damle|Utpa...   \n",
      "1627                          Gippy Grewal|Zareen Khan|   \n",
      "1628                                        Fawad Khan|   \n",
      "\n",
      "            wins_nominations              release_date  \n",
      "0                     4 wins     11 January 2019 (USA)  \n",
      "1                        NaN   11 January 2019 (India)  \n",
      "2                        NaN     11 January 2019 (USA)  \n",
      "3                        NaN     18 January 2019 (USA)  \n",
      "4     17 wins & 1 nomination   11 January 2019 (India)  \n",
      "...                      ...                       ...  \n",
      "1624                     NaN   7 November 2001 (India)  \n",
      "1625                     NaN  16 November 2001 (India)  \n",
      "1626                     NaN                       NaN  \n",
      "1627                     NaN     1 November 2019 (USA)  \n",
      "1628                     NaN     TV Series (2011–2012)  \n",
      "\n",
      "[1629 rows x 18 columns]\n"
     ]
    }
   ],
   "source": [
    "import pandas as pd\n",
    "dataset =  pd.read_csv('movies.csv')\n",
    "print(dataset)"
   ]
  },
  {
   "cell_type": "code",
   "execution_count": 26,
   "metadata": {},
   "outputs": [
    {
     "data": {
      "text/plain": [
       "75"
      ]
     },
     "execution_count": 26,
     "metadata": {},
     "output_type": "execute_result"
    }
   ],
   "source": [
    "dataset[dataset['year_of_release'] == 2019].shape[0]"
   ]
  },
  {
   "cell_type": "code",
   "execution_count": 28,
   "metadata": {},
   "outputs": [
    {
     "data": {
      "text/plain": [
       "361"
      ]
     },
     "execution_count": 28,
     "metadata": {},
     "output_type": "execute_result"
    }
   ],
   "source": [
    "dataset[dataset['imdb_rating'] >= 7].shape[0]"
   ]
  },
  {
   "cell_type": "code",
   "execution_count": 37,
   "metadata": {},
   "outputs": [],
   "source": [
    "sdata = dataset[dataset['imdb_votes'] >= 20000]\n",
    "sdata[['title_x', 'story','wiki_link']].to_csv('my_data.csv', index = False)"
   ]
  },
  {
   "cell_type": "code",
   "execution_count": 12,
   "metadata": {
    "scrolled": false
   },
   "outputs": [
    {
     "name": "stdout",
     "output_type": "stream",
     "text": [
      "Uri: The Surgical Strike  :  11 January 2019 (USA)\n",
      "Battalion 609  :  11 January 2019 (India)\n",
      "The Accidental Prime Minister  :  11 January 2019 (USA)\n",
      "Why Cheat India  :  18 January 2019 (USA)\n",
      "Fraud Saiyyan  :  18 January 2019 (India)\n",
      "Bombairiya  :  18 January 2019 (India)\n",
      "Manikarnika: The Queen of Jhansi  :  25 January 2019 (USA)\n",
      "Thackeray  :  25 January 2019 (India)\n",
      "Amavas  :  8 February 2019 (India)\n",
      "Gully Boy  :  14 February 2019 (USA)\n",
      "Hum chaar  :  15 February 2019 (India)\n",
      "Total Dhamaal  :  22 February 2019 (India)\n",
      "Sonchiriya  :  1 March 2019 (India)\n",
      "Badla  :  8 March 2019 (India)\n",
      "Photograph  :  17 May 2019 (USA)\n",
      "Risknamaa  :  15 March 2019 (India)\n",
      "22 Yards  :  15 March 2019 (India)\n",
      "Kesari  :  21 March 2019 (USA)\n",
      "Notebook  :  29 March 2019 (USA)\n",
      "Junglee  :  29 March 2019 (USA)\n",
      "Gone Kesh  :  29 March 2019 (India)\n",
      "Albert Pinto Ko Gussa Kyun Aata Hai?  :  12 April 2019 (India)\n",
      "The Tashkent Files  :  12 April 2019 (India)\n",
      "Kalank  :  17 April 2019 (USA)\n",
      "Setters  :  3 May 2019 (India)\n",
      "Student of the Year 2  :  10 May 2019 (USA)\n",
      "PM Narendra Modi  :  24 May 2019 (USA)\n",
      "De De Pyaar De  :  17 May 2019 (USA)\n",
      "India's Most Wanted  :  24 May 2019 (USA)\n",
      "Khamoshi  :  14 June 2019 (India)\n",
      "Kabir Singh  :  20 June 2019 (USA)\n",
      "Article 15  :  28 June 2019 (USA)\n",
      "One Day: Justice Delivered  :  5 July 2019 (India)\n",
      "Hume Tumse Pyaar Kitna  :  5 July 2019 (India)\n",
      "Super 30  :  12 July 2019 (USA)\n",
      "Family of Thakurganj  :  19 July 2019 (India)\n",
      "Batla House  :  15 August 2019 (USA)\n",
      "Jhootha Kahin Ka  :  19 July 2019 (India)\n",
      "Judgementall Hai Kya  :  26 July 2019 (USA)\n",
      "Chicken Curry Law  :  9 August 2019 (India)\n",
      "Arjun Patiala  :  26 July 2019 (USA)\n",
      "Jabariya Jodi  :  9 August 2019 (USA)\n",
      "Pranaam  :  nan\n",
      "The Sky Is Pink  :  11 October 2019 (USA)\n",
      "Mission Mangal  :  15 August 2019 (USA)\n",
      "Saaho  :  30 August 2019 (USA)\n",
      "Dream Girl  :  13 September 2019 (USA)\n",
      "Section 375  :  13 September 2019 (USA)\n",
      "The Zoya Factor  :  20 September 2019 (USA)\n",
      "Pal Pal Dil Ke Paas  :  20 September 2019 (USA)\n",
      "Prassthanam  :  20 September 2019 (USA)\n",
      "P Se Pyaar F Se Faraar  :  18 October 2019 (India)\n",
      "Ghost  :  18 October 2019 (India)\n",
      "Bala  :  7 November 2019 (USA)\n",
      "#Yaaram  :  nan\n",
      "Housefull 4  :  25 October 2019 (USA)\n",
      "Saand Ki Aankh  :  25 October 2019 (USA)\n",
      "Made in China  :  25 October 2019 (USA)\n",
      "Ujda Chaman  :  1 November 2019 (USA)\n",
      "Bypass Road  :  8 November 2019 (USA)\n",
      "Satellite Shankar  :  8 November 2019 (India)\n",
      "Jhalki  :  nan\n",
      "Marjaavaan  :  15 November 2019 (USA)\n",
      "Motichoor Chaknachoor  :  15 November 2019 (USA)\n",
      "Keep Safe Distance  :  nan\n",
      "Pagalpanti  :  nan\n",
      "Ramprasad Ki Tehrvi  :  nan\n",
      "Yeh Saali Aashiqui  :  nan\n",
      "Dil Bechara  :  nan\n",
      "Pati Patni Aur Woh  :  nan\n",
      "Commando 3  :  nan\n",
      "Mardaani 2  :  nan\n",
      "Dabangg 3  :  nan\n",
      "Good Newwz  :  nan\n",
      "Daaka  :  1 November 2019 (USA)\n"
     ]
    }
   ],
   "source": [
    "import pandas as pd\n",
    "dataset =  pd.read_csv('movies.csv')\n",
    "sdata = dataset[dataset['year_of_release'] == 2019]\n",
    "sdata = sdata.reset_index(drop = True)\n",
    "j = 0\n",
    "for i in sdata[\"original_title\"]:\n",
    "    print(i, \" : \",sdata[\"release_date\"][j])\n",
    "    j+=1"
   ]
  },
  {
   "cell_type": "code",
   "execution_count": 19,
   "metadata": {},
   "outputs": [
    {
     "data": {
      "text/plain": [
       "26"
      ]
     },
     "execution_count": 19,
     "metadata": {},
     "output_type": "execute_result"
    }
   ],
   "source": [
    "dataset = pd.read_csv(\"movies.csv\")\n",
    "release = dataset[(dataset['year_of_release'] == 2019) & (dataset['imdb_rating'] > 7)].shape[0]\n",
    "release"
   ]
  },
  {
   "cell_type": "code",
   "execution_count": 27,
   "metadata": {},
   "outputs": [
    {
     "data": {
      "text/plain": [
       "match_no\n",
       "128    113\n",
       "126    109\n",
       "123    108\n",
       "164    100\n",
       "120    100\n",
       "82      99\n",
       "81      93\n",
       "145     92\n",
       "178     90\n",
       "160     84\n",
       "Name: runs, dtype: int64"
      ]
     },
     "execution_count": 27,
     "metadata": {},
     "output_type": "execute_result"
    }
   ],
   "source": [
    "import pandas as pd\n",
    "kohli = pd.read_csv('kohli_ipl.csv', index_col = 'match_no',squeeze=True)\n",
    "kohli = kohli.sort_values(ascending = False)\n",
    "kohli.head(10)"
   ]
  },
  {
   "cell_type": "code",
   "execution_count": 32,
   "metadata": {},
   "outputs": [
    {
     "ename": "AttributeError",
     "evalue": "'numpy.int64' object has no attribute 'sort_values'",
     "output_type": "error",
     "traceback": [
      "\u001b[1;31m---------------------------------------------------------------------------\u001b[0m",
      "\u001b[1;31mAttributeError\u001b[0m                            Traceback (most recent call last)",
      "\u001b[1;32m<ipython-input-32-a6064bcb8189>\u001b[0m in \u001b[0;36m<module>\u001b[1;34m\u001b[0m\n\u001b[1;32m----> 1\u001b[1;33m \u001b[0mkohli\u001b[0m \u001b[1;33m=\u001b[0m \u001b[0mkohli\u001b[0m\u001b[1;33m.\u001b[0m\u001b[0msort_values\u001b[0m\u001b[1;33m(\u001b[0m\u001b[0mascending\u001b[0m \u001b[1;33m=\u001b[0m \u001b[1;32mFalse\u001b[0m\u001b[1;33m)\u001b[0m\u001b[1;33m\u001b[0m\u001b[1;33m\u001b[0m\u001b[0m\n\u001b[0m\u001b[0;32m      2\u001b[0m \u001b[0mkohli\u001b[0m\u001b[1;33m[\u001b[0m\u001b[1;34m'runs'\u001b[0m\u001b[1;33m]\u001b[0m\u001b[1;33m\u001b[0m\u001b[1;33m\u001b[0m\u001b[0m\n",
      "\u001b[1;31mAttributeError\u001b[0m: 'numpy.int64' object has no attribute 'sort_values'"
     ]
    }
   ],
   "source": [
    "kohli = pd.read_csv('kohli_ipl.csv', index_col = 'match_no',squeeze=True)\n",
    "kohli = kohli.sort_values(ascending = False)\n",
    "kohli['runs']"
   ]
  },
  {
   "cell_type": "code",
   "execution_count": 34,
   "metadata": {},
   "outputs": [
    {
     "data": {
      "text/html": [
       "<div>\n",
       "<style scoped>\n",
       "    .dataframe tbody tr th:only-of-type {\n",
       "        vertical-align: middle;\n",
       "    }\n",
       "\n",
       "    .dataframe tbody tr th {\n",
       "        vertical-align: top;\n",
       "    }\n",
       "\n",
       "    .dataframe thead th {\n",
       "        text-align: right;\n",
       "    }\n",
       "</style>\n",
       "<table border=\"1\" class=\"dataframe\">\n",
       "  <thead>\n",
       "    <tr style=\"text-align: right;\">\n",
       "      <th></th>\n",
       "      <th>ID</th>\n",
       "      <th>City</th>\n",
       "      <th>Date</th>\n",
       "      <th>Season</th>\n",
       "      <th>MatchNumber</th>\n",
       "      <th>Team1</th>\n",
       "      <th>Team2</th>\n",
       "      <th>Venue</th>\n",
       "      <th>TossWinner</th>\n",
       "      <th>TossDecision</th>\n",
       "      <th>SuperOver</th>\n",
       "      <th>WinningTeam</th>\n",
       "      <th>WonBy</th>\n",
       "      <th>Margin</th>\n",
       "      <th>method</th>\n",
       "      <th>Player_of_Match</th>\n",
       "      <th>Team1Players</th>\n",
       "      <th>Team2Players</th>\n",
       "      <th>Umpire1</th>\n",
       "      <th>Umpire2</th>\n",
       "    </tr>\n",
       "  </thead>\n",
       "  <tbody>\n",
       "    <tr>\n",
       "      <th>0</th>\n",
       "      <td>1312200</td>\n",
       "      <td>Ahmedabad</td>\n",
       "      <td>2022-05-29</td>\n",
       "      <td>2022</td>\n",
       "      <td>Final</td>\n",
       "      <td>Rajasthan Royals</td>\n",
       "      <td>Gujarat Titans</td>\n",
       "      <td>Narendra Modi Stadium, Ahmedabad</td>\n",
       "      <td>Rajasthan Royals</td>\n",
       "      <td>bat</td>\n",
       "      <td>N</td>\n",
       "      <td>Gujarat Titans</td>\n",
       "      <td>Wickets</td>\n",
       "      <td>7.0</td>\n",
       "      <td>NaN</td>\n",
       "      <td>HH Pandya</td>\n",
       "      <td>['YBK Jaiswal', 'JC Buttler', 'SV Samson', 'D ...</td>\n",
       "      <td>['WP Saha', 'Shubman Gill', 'MS Wade', 'HH Pan...</td>\n",
       "      <td>CB Gaffaney</td>\n",
       "      <td>Nitin Menon</td>\n",
       "    </tr>\n",
       "    <tr>\n",
       "      <th>1</th>\n",
       "      <td>1312199</td>\n",
       "      <td>Ahmedabad</td>\n",
       "      <td>2022-05-27</td>\n",
       "      <td>2022</td>\n",
       "      <td>Qualifier 2</td>\n",
       "      <td>Royal Challengers Bangalore</td>\n",
       "      <td>Rajasthan Royals</td>\n",
       "      <td>Narendra Modi Stadium, Ahmedabad</td>\n",
       "      <td>Rajasthan Royals</td>\n",
       "      <td>field</td>\n",
       "      <td>N</td>\n",
       "      <td>Rajasthan Royals</td>\n",
       "      <td>Wickets</td>\n",
       "      <td>7.0</td>\n",
       "      <td>NaN</td>\n",
       "      <td>JC Buttler</td>\n",
       "      <td>['V Kohli', 'F du Plessis', 'RM Patidar', 'GJ ...</td>\n",
       "      <td>['YBK Jaiswal', 'JC Buttler', 'SV Samson', 'D ...</td>\n",
       "      <td>CB Gaffaney</td>\n",
       "      <td>Nitin Menon</td>\n",
       "    </tr>\n",
       "    <tr>\n",
       "      <th>2</th>\n",
       "      <td>1312198</td>\n",
       "      <td>Kolkata</td>\n",
       "      <td>2022-05-25</td>\n",
       "      <td>2022</td>\n",
       "      <td>Eliminator</td>\n",
       "      <td>Royal Challengers Bangalore</td>\n",
       "      <td>Lucknow Super Giants</td>\n",
       "      <td>Eden Gardens, Kolkata</td>\n",
       "      <td>Lucknow Super Giants</td>\n",
       "      <td>field</td>\n",
       "      <td>N</td>\n",
       "      <td>Royal Challengers Bangalore</td>\n",
       "      <td>Runs</td>\n",
       "      <td>14.0</td>\n",
       "      <td>NaN</td>\n",
       "      <td>RM Patidar</td>\n",
       "      <td>['V Kohli', 'F du Plessis', 'RM Patidar', 'GJ ...</td>\n",
       "      <td>['Q de Kock', 'KL Rahul', 'M Vohra', 'DJ Hooda...</td>\n",
       "      <td>J Madanagopal</td>\n",
       "      <td>MA Gough</td>\n",
       "    </tr>\n",
       "    <tr>\n",
       "      <th>3</th>\n",
       "      <td>1312197</td>\n",
       "      <td>Kolkata</td>\n",
       "      <td>2022-05-24</td>\n",
       "      <td>2022</td>\n",
       "      <td>Qualifier 1</td>\n",
       "      <td>Rajasthan Royals</td>\n",
       "      <td>Gujarat Titans</td>\n",
       "      <td>Eden Gardens, Kolkata</td>\n",
       "      <td>Gujarat Titans</td>\n",
       "      <td>field</td>\n",
       "      <td>N</td>\n",
       "      <td>Gujarat Titans</td>\n",
       "      <td>Wickets</td>\n",
       "      <td>7.0</td>\n",
       "      <td>NaN</td>\n",
       "      <td>DA Miller</td>\n",
       "      <td>['YBK Jaiswal', 'JC Buttler', 'SV Samson', 'D ...</td>\n",
       "      <td>['WP Saha', 'Shubman Gill', 'MS Wade', 'HH Pan...</td>\n",
       "      <td>BNJ Oxenford</td>\n",
       "      <td>VK Sharma</td>\n",
       "    </tr>\n",
       "    <tr>\n",
       "      <th>4</th>\n",
       "      <td>1304116</td>\n",
       "      <td>Mumbai</td>\n",
       "      <td>2022-05-22</td>\n",
       "      <td>2022</td>\n",
       "      <td>70</td>\n",
       "      <td>Sunrisers Hyderabad</td>\n",
       "      <td>Punjab Kings</td>\n",
       "      <td>Wankhede Stadium, Mumbai</td>\n",
       "      <td>Sunrisers Hyderabad</td>\n",
       "      <td>bat</td>\n",
       "      <td>N</td>\n",
       "      <td>Punjab Kings</td>\n",
       "      <td>Wickets</td>\n",
       "      <td>5.0</td>\n",
       "      <td>NaN</td>\n",
       "      <td>Harpreet Brar</td>\n",
       "      <td>['PK Garg', 'Abhishek Sharma', 'RA Tripathi', ...</td>\n",
       "      <td>['JM Bairstow', 'S Dhawan', 'M Shahrukh Khan',...</td>\n",
       "      <td>AK Chaudhary</td>\n",
       "      <td>NA Patwardhan</td>\n",
       "    </tr>\n",
       "    <tr>\n",
       "      <th>...</th>\n",
       "      <td>...</td>\n",
       "      <td>...</td>\n",
       "      <td>...</td>\n",
       "      <td>...</td>\n",
       "      <td>...</td>\n",
       "      <td>...</td>\n",
       "      <td>...</td>\n",
       "      <td>...</td>\n",
       "      <td>...</td>\n",
       "      <td>...</td>\n",
       "      <td>...</td>\n",
       "      <td>...</td>\n",
       "      <td>...</td>\n",
       "      <td>...</td>\n",
       "      <td>...</td>\n",
       "      <td>...</td>\n",
       "      <td>...</td>\n",
       "      <td>...</td>\n",
       "      <td>...</td>\n",
       "      <td>...</td>\n",
       "    </tr>\n",
       "    <tr>\n",
       "      <th>945</th>\n",
       "      <td>335986</td>\n",
       "      <td>Kolkata</td>\n",
       "      <td>2008-04-20</td>\n",
       "      <td>2007/08</td>\n",
       "      <td>4</td>\n",
       "      <td>Kolkata Knight Riders</td>\n",
       "      <td>Deccan Chargers</td>\n",
       "      <td>Eden Gardens</td>\n",
       "      <td>Deccan Chargers</td>\n",
       "      <td>bat</td>\n",
       "      <td>N</td>\n",
       "      <td>Kolkata Knight Riders</td>\n",
       "      <td>Wickets</td>\n",
       "      <td>5.0</td>\n",
       "      <td>NaN</td>\n",
       "      <td>DJ Hussey</td>\n",
       "      <td>['WP Saha', 'BB McCullum', 'RT Ponting', 'SC G...</td>\n",
       "      <td>['AC Gilchrist', 'Y Venugopal Rao', 'VVS Laxma...</td>\n",
       "      <td>BF Bowden</td>\n",
       "      <td>K Hariharan</td>\n",
       "    </tr>\n",
       "    <tr>\n",
       "      <th>946</th>\n",
       "      <td>335985</td>\n",
       "      <td>Mumbai</td>\n",
       "      <td>2008-04-20</td>\n",
       "      <td>2007/08</td>\n",
       "      <td>5</td>\n",
       "      <td>Mumbai Indians</td>\n",
       "      <td>Royal Challengers Bangalore</td>\n",
       "      <td>Wankhede Stadium</td>\n",
       "      <td>Mumbai Indians</td>\n",
       "      <td>bat</td>\n",
       "      <td>N</td>\n",
       "      <td>Royal Challengers Bangalore</td>\n",
       "      <td>Wickets</td>\n",
       "      <td>5.0</td>\n",
       "      <td>NaN</td>\n",
       "      <td>MV Boucher</td>\n",
       "      <td>['L Ronchi', 'ST Jayasuriya', 'DJ Thornely', '...</td>\n",
       "      <td>['S Chanderpaul', 'R Dravid', 'LRPL Taylor', '...</td>\n",
       "      <td>SJ Davis</td>\n",
       "      <td>DJ Harper</td>\n",
       "    </tr>\n",
       "    <tr>\n",
       "      <th>947</th>\n",
       "      <td>335984</td>\n",
       "      <td>Delhi</td>\n",
       "      <td>2008-04-19</td>\n",
       "      <td>2007/08</td>\n",
       "      <td>3</td>\n",
       "      <td>Delhi Daredevils</td>\n",
       "      <td>Rajasthan Royals</td>\n",
       "      <td>Feroz Shah Kotla</td>\n",
       "      <td>Rajasthan Royals</td>\n",
       "      <td>bat</td>\n",
       "      <td>N</td>\n",
       "      <td>Delhi Daredevils</td>\n",
       "      <td>Wickets</td>\n",
       "      <td>9.0</td>\n",
       "      <td>NaN</td>\n",
       "      <td>MF Maharoof</td>\n",
       "      <td>['G Gambhir', 'V Sehwag', 'S Dhawan', 'MK Tiwa...</td>\n",
       "      <td>['T Kohli', 'YK Pathan', 'SR Watson', 'M Kaif'...</td>\n",
       "      <td>Aleem Dar</td>\n",
       "      <td>GA Pratapkumar</td>\n",
       "    </tr>\n",
       "    <tr>\n",
       "      <th>948</th>\n",
       "      <td>335983</td>\n",
       "      <td>Chandigarh</td>\n",
       "      <td>2008-04-19</td>\n",
       "      <td>2007/08</td>\n",
       "      <td>2</td>\n",
       "      <td>Kings XI Punjab</td>\n",
       "      <td>Chennai Super Kings</td>\n",
       "      <td>Punjab Cricket Association Stadium, Mohali</td>\n",
       "      <td>Chennai Super Kings</td>\n",
       "      <td>bat</td>\n",
       "      <td>N</td>\n",
       "      <td>Chennai Super Kings</td>\n",
       "      <td>Runs</td>\n",
       "      <td>33.0</td>\n",
       "      <td>NaN</td>\n",
       "      <td>MEK Hussey</td>\n",
       "      <td>['K Goel', 'JR Hopes', 'KC Sangakkara', 'Yuvra...</td>\n",
       "      <td>['PA Patel', 'ML Hayden', 'MEK Hussey', 'MS Dh...</td>\n",
       "      <td>MR Benson</td>\n",
       "      <td>SL Shastri</td>\n",
       "    </tr>\n",
       "    <tr>\n",
       "      <th>949</th>\n",
       "      <td>335982</td>\n",
       "      <td>Bangalore</td>\n",
       "      <td>2008-04-18</td>\n",
       "      <td>2007/08</td>\n",
       "      <td>1</td>\n",
       "      <td>Royal Challengers Bangalore</td>\n",
       "      <td>Kolkata Knight Riders</td>\n",
       "      <td>M Chinnaswamy Stadium</td>\n",
       "      <td>Royal Challengers Bangalore</td>\n",
       "      <td>field</td>\n",
       "      <td>N</td>\n",
       "      <td>Kolkata Knight Riders</td>\n",
       "      <td>Runs</td>\n",
       "      <td>140.0</td>\n",
       "      <td>NaN</td>\n",
       "      <td>BB McCullum</td>\n",
       "      <td>['R Dravid', 'W Jaffer', 'V Kohli', 'JH Kallis...</td>\n",
       "      <td>['SC Ganguly', 'BB McCullum', 'RT Ponting', 'D...</td>\n",
       "      <td>Asad Rauf</td>\n",
       "      <td>RE Koertzen</td>\n",
       "    </tr>\n",
       "  </tbody>\n",
       "</table>\n",
       "<p>950 rows × 20 columns</p>\n",
       "</div>"
      ],
      "text/plain": [
       "          ID        City        Date   Season  MatchNumber  \\\n",
       "0    1312200   Ahmedabad  2022-05-29     2022        Final   \n",
       "1    1312199   Ahmedabad  2022-05-27     2022  Qualifier 2   \n",
       "2    1312198     Kolkata  2022-05-25     2022   Eliminator   \n",
       "3    1312197     Kolkata  2022-05-24     2022  Qualifier 1   \n",
       "4    1304116      Mumbai  2022-05-22     2022           70   \n",
       "..       ...         ...         ...      ...          ...   \n",
       "945   335986     Kolkata  2008-04-20  2007/08            4   \n",
       "946   335985      Mumbai  2008-04-20  2007/08            5   \n",
       "947   335984       Delhi  2008-04-19  2007/08            3   \n",
       "948   335983  Chandigarh  2008-04-19  2007/08            2   \n",
       "949   335982   Bangalore  2008-04-18  2007/08            1   \n",
       "\n",
       "                           Team1                        Team2  \\\n",
       "0               Rajasthan Royals               Gujarat Titans   \n",
       "1    Royal Challengers Bangalore             Rajasthan Royals   \n",
       "2    Royal Challengers Bangalore         Lucknow Super Giants   \n",
       "3               Rajasthan Royals               Gujarat Titans   \n",
       "4            Sunrisers Hyderabad                 Punjab Kings   \n",
       "..                           ...                          ...   \n",
       "945        Kolkata Knight Riders              Deccan Chargers   \n",
       "946               Mumbai Indians  Royal Challengers Bangalore   \n",
       "947             Delhi Daredevils             Rajasthan Royals   \n",
       "948              Kings XI Punjab          Chennai Super Kings   \n",
       "949  Royal Challengers Bangalore        Kolkata Knight Riders   \n",
       "\n",
       "                                          Venue                   TossWinner  \\\n",
       "0              Narendra Modi Stadium, Ahmedabad             Rajasthan Royals   \n",
       "1              Narendra Modi Stadium, Ahmedabad             Rajasthan Royals   \n",
       "2                         Eden Gardens, Kolkata         Lucknow Super Giants   \n",
       "3                         Eden Gardens, Kolkata               Gujarat Titans   \n",
       "4                      Wankhede Stadium, Mumbai          Sunrisers Hyderabad   \n",
       "..                                          ...                          ...   \n",
       "945                                Eden Gardens              Deccan Chargers   \n",
       "946                            Wankhede Stadium               Mumbai Indians   \n",
       "947                            Feroz Shah Kotla             Rajasthan Royals   \n",
       "948  Punjab Cricket Association Stadium, Mohali          Chennai Super Kings   \n",
       "949                       M Chinnaswamy Stadium  Royal Challengers Bangalore   \n",
       "\n",
       "    TossDecision SuperOver                  WinningTeam    WonBy  Margin  \\\n",
       "0            bat         N               Gujarat Titans  Wickets     7.0   \n",
       "1          field         N             Rajasthan Royals  Wickets     7.0   \n",
       "2          field         N  Royal Challengers Bangalore     Runs    14.0   \n",
       "3          field         N               Gujarat Titans  Wickets     7.0   \n",
       "4            bat         N                 Punjab Kings  Wickets     5.0   \n",
       "..           ...       ...                          ...      ...     ...   \n",
       "945          bat         N        Kolkata Knight Riders  Wickets     5.0   \n",
       "946          bat         N  Royal Challengers Bangalore  Wickets     5.0   \n",
       "947          bat         N             Delhi Daredevils  Wickets     9.0   \n",
       "948          bat         N          Chennai Super Kings     Runs    33.0   \n",
       "949        field         N        Kolkata Knight Riders     Runs   140.0   \n",
       "\n",
       "    method Player_of_Match                                       Team1Players  \\\n",
       "0      NaN       HH Pandya  ['YBK Jaiswal', 'JC Buttler', 'SV Samson', 'D ...   \n",
       "1      NaN      JC Buttler  ['V Kohli', 'F du Plessis', 'RM Patidar', 'GJ ...   \n",
       "2      NaN      RM Patidar  ['V Kohli', 'F du Plessis', 'RM Patidar', 'GJ ...   \n",
       "3      NaN       DA Miller  ['YBK Jaiswal', 'JC Buttler', 'SV Samson', 'D ...   \n",
       "4      NaN   Harpreet Brar  ['PK Garg', 'Abhishek Sharma', 'RA Tripathi', ...   \n",
       "..     ...             ...                                                ...   \n",
       "945    NaN       DJ Hussey  ['WP Saha', 'BB McCullum', 'RT Ponting', 'SC G...   \n",
       "946    NaN      MV Boucher  ['L Ronchi', 'ST Jayasuriya', 'DJ Thornely', '...   \n",
       "947    NaN     MF Maharoof  ['G Gambhir', 'V Sehwag', 'S Dhawan', 'MK Tiwa...   \n",
       "948    NaN      MEK Hussey  ['K Goel', 'JR Hopes', 'KC Sangakkara', 'Yuvra...   \n",
       "949    NaN     BB McCullum  ['R Dravid', 'W Jaffer', 'V Kohli', 'JH Kallis...   \n",
       "\n",
       "                                          Team2Players        Umpire1  \\\n",
       "0    ['WP Saha', 'Shubman Gill', 'MS Wade', 'HH Pan...    CB Gaffaney   \n",
       "1    ['YBK Jaiswal', 'JC Buttler', 'SV Samson', 'D ...    CB Gaffaney   \n",
       "2    ['Q de Kock', 'KL Rahul', 'M Vohra', 'DJ Hooda...  J Madanagopal   \n",
       "3    ['WP Saha', 'Shubman Gill', 'MS Wade', 'HH Pan...   BNJ Oxenford   \n",
       "4    ['JM Bairstow', 'S Dhawan', 'M Shahrukh Khan',...   AK Chaudhary   \n",
       "..                                                 ...            ...   \n",
       "945  ['AC Gilchrist', 'Y Venugopal Rao', 'VVS Laxma...      BF Bowden   \n",
       "946  ['S Chanderpaul', 'R Dravid', 'LRPL Taylor', '...       SJ Davis   \n",
       "947  ['T Kohli', 'YK Pathan', 'SR Watson', 'M Kaif'...      Aleem Dar   \n",
       "948  ['PA Patel', 'ML Hayden', 'MEK Hussey', 'MS Dh...      MR Benson   \n",
       "949  ['SC Ganguly', 'BB McCullum', 'RT Ponting', 'D...      Asad Rauf   \n",
       "\n",
       "            Umpire2  \n",
       "0       Nitin Menon  \n",
       "1       Nitin Menon  \n",
       "2          MA Gough  \n",
       "3         VK Sharma  \n",
       "4     NA Patwardhan  \n",
       "..              ...  \n",
       "945     K Hariharan  \n",
       "946       DJ Harper  \n",
       "947  GA Pratapkumar  \n",
       "948      SL Shastri  \n",
       "949     RE Koertzen  \n",
       "\n",
       "[950 rows x 20 columns]"
      ]
     },
     "execution_count": 34,
     "metadata": {},
     "output_type": "execute_result"
    }
   ],
   "source": [
    "import pandas as pd\n",
    "ipldata = pd.read_csv('ipl-matches.csv')\n",
    "ipldata"
   ]
  },
  {
   "cell_type": "code",
   "execution_count": 35,
   "metadata": {},
   "outputs": [
    {
     "data": {
      "text/plain": [
       "14"
      ]
     },
     "execution_count": 35,
     "metadata": {},
     "output_type": "execute_result"
    }
   ],
   "source": [
    "# How many matches has gone in to super over\n",
    "ipldata[ipldata['SuperOver'] == 'Y'].shape[0]"
   ]
  },
  {
   "cell_type": "code",
   "execution_count": 37,
   "metadata": {},
   "outputs": [
    {
     "data": {
      "text/plain": [
       "489"
      ]
     },
     "execution_count": 37,
     "metadata": {},
     "output_type": "execute_result"
    }
   ],
   "source": [
    "# How many matches won by toss winner of the match.\n",
    "ipldata[ipldata['TossWinner'] == ipldata['WinningTeam']].shape[0]"
   ]
  },
  {
   "cell_type": "code",
   "execution_count": 38,
   "metadata": {},
   "outputs": [
    {
     "data": {
      "text/plain": [
       "5"
      ]
     },
     "execution_count": 38,
     "metadata": {},
     "output_type": "execute_result"
    }
   ],
   "source": [
    "# How many matches won by chennai super kings and KKR?\n",
    "ipldata[(ipldata['WinningTeam'] == 'Chennai Super Kings') & (ipldata['City'] == 'Kolkata')].shape[0]"
   ]
  },
  {
   "cell_type": "code",
   "execution_count": 41,
   "metadata": {},
   "outputs": [
    {
     "data": {
      "text/plain": [
       "2"
      ]
     },
     "execution_count": 41,
     "metadata": {},
     "output_type": "execute_result"
    }
   ],
   "source": [
    "# In how many matches Hardik pandya is the player of the match against Rajesthan Royals\n",
    "ipldata[(ipldata['Player_of_Match'] == 'HH Pandya') & (((ipldata['Team1'] == 'Gujarat Titans') & (ipldata['Team2'] == 'Rajasthan Royals')) | ((ipldata['Team2'] == 'Gujarat Titans') & (ipldata['Team1'] == 'Rajasthan Royals'))) ].shape[0]"
   ]
  },
  {
   "cell_type": "code",
   "execution_count": 43,
   "metadata": {},
   "outputs": [
    {
     "data": {
      "text/plain": [
       "2"
      ]
     },
     "execution_count": 43,
     "metadata": {},
     "output_type": "execute_result"
    }
   ],
   "source": [
    "#How many matches GT won the toss and elected to bat\n",
    "ipldata[(ipldata['TossWinner'] == 'Gujarat Titans') & (ipldata['TossDecision'] == 'bat') & (ipldata['WinningTeam'] == 'Gujarat Titans')].shape[0]"
   ]
  },
  {
   "cell_type": "code",
   "execution_count": 46,
   "metadata": {},
   "outputs": [
    {
     "data": {
      "text/plain": [
       "16"
      ]
     },
     "execution_count": 46,
     "metadata": {},
     "output_type": "execute_result"
    }
   ],
   "source": [
    "# How many matches GT played\n",
    "ipldata[(ipldata['Team1'] == 'Gujarat Titans') | (ipldata['Team2'] == 'Gujarat Titans')].shape[0]"
   ]
  },
  {
   "cell_type": "code",
   "execution_count": 52,
   "metadata": {},
   "outputs": [
    {
     "data": {
      "text/plain": [
       "1"
      ]
     },
     "execution_count": 52,
     "metadata": {},
     "output_type": "execute_result"
    }
   ],
   "source": [
    "ipldata[(ipldata['WinningTeam'] == 'Gujarat Titans') & (ipldata['MatchNumber'] == 'Final')].shape[0]"
   ]
  },
  {
   "cell_type": "code",
   "execution_count": null,
   "metadata": {},
   "outputs": [],
   "source": []
  }
 ],
 "metadata": {
  "kernelspec": {
   "display_name": "Python 3",
   "language": "python",
   "name": "python3"
  },
  "language_info": {
   "codemirror_mode": {
    "name": "ipython",
    "version": 3
   },
   "file_extension": ".py",
   "mimetype": "text/x-python",
   "name": "python",
   "nbconvert_exporter": "python",
   "pygments_lexer": "ipython3",
   "version": "3.8.5"
  }
 },
 "nbformat": 4,
 "nbformat_minor": 4
}
