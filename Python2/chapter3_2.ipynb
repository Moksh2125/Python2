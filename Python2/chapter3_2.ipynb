{
 "cells": [
  {
   "cell_type": "markdown",
   "metadata": {},
   "source": [
    "## Search( ) function"
   ]
  },
  {
   "cell_type": "code",
   "execution_count": 13,
   "metadata": {},
   "outputs": [
    {
     "name": "stdout",
     "output_type": "stream",
     "text": [
      "<re.Match object; span=(3, 4), match=' '>\n",
      "(3, 4)\n",
      "3\n",
      "4\n",
      "------------------------------------------------------------\n",
      "<re.Match object; span=(3, 9), match='      '>\n",
      "(3, 9)\n",
      "3\n",
      "9\n"
     ]
    }
   ],
   "source": [
    "import re\n",
    "txt = \"The rain in spain\"\n",
    "x = re.search(\"\\s\", txt)\n",
    "print(x)\n",
    "print(x.span())\n",
    "print(x.start())\n",
    "print(x.end())\n",
    "print(\"-\"*60)\n",
    "txt = \"The      rain in spain\"\n",
    "x = re.search(\"\\s+\", txt)\n",
    "print(x)\n",
    "print(x.span())\n",
    "print(x.start())\n",
    "print(x.end())"
   ]
  },
  {
   "cell_type": "code",
   "execution_count": 16,
   "metadata": {},
   "outputs": [
    {
     "name": "stdout",
     "output_type": "stream",
     "text": [
      "<re.Match object; span=(12, 13), match='4'>\n",
      "(12, 13)\n",
      "12\n",
      "13\n",
      "------------------------------------------------------------\n",
      "<re.Match object; span=(12, 15), match='256'>\n",
      "(12, 15)\n",
      "12\n",
      "15\n"
     ]
    }
   ],
   "source": [
    "import re\n",
    "txt = \"The rain in 458spain\"\n",
    "x = re.search(\"\\d\", txt)\n",
    "print(x)\n",
    "print(x.span())\n",
    "print(x.start())\n",
    "print(x.end())\n",
    "print(\"-\"*60)\n",
    "txt = \"The rain in 256spain\"\n",
    "x = re.search(\"\\d+\", txt)\n",
    "print(x)\n",
    "print(x.span())\n",
    "print(x.start())\n",
    "print(x.end())"
   ]
  },
  {
   "cell_type": "markdown",
   "metadata": {},
   "source": [
    "## Split( ) function"
   ]
  },
  {
   "cell_type": "code",
   "execution_count": 17,
   "metadata": {},
   "outputs": [
    {
     "name": "stdout",
     "output_type": "stream",
     "text": [
      "['The', 'rain', 'in spain']\n"
     ]
    }
   ],
   "source": [
    "import re\n",
    "txt = \"The rain in spain\"\n",
    "x = re.split('\\s', txt, 2)\n",
    "print(x)"
   ]
  },
  {
   "cell_type": "code",
   "execution_count": 22,
   "metadata": {},
   "outputs": [
    {
     "name": "stdout",
     "output_type": "stream",
     "text": [
      "['', '_', '_', '@', '*', '#over$the$lazy&dog']\n"
     ]
    }
   ],
   "source": [
    "import re\n",
    "txt = 'the_quick_brown@fox*jump#over$the$lazy&dog'\n",
    "patten = '[a-z A-Z]+'\n",
    "x = re.split(patten, txt,5)\n",
    "print(x)"
   ]
  },
  {
   "cell_type": "code",
   "execution_count": 26,
   "metadata": {},
   "outputs": [
    {
     "name": "stdout",
     "output_type": "stream",
     "text": [
      "['the', 'brown', 'jumps', 'the', 'dog']\n"
     ]
    }
   ],
   "source": [
    "import re \n",
    "txt = 'the quick brown fox jumps over the lazy dog'\n",
    "patten = \"\\s+\\w+\\s\"\n",
    "x = re.split(patten, txt)\n",
    "print(x)"
   ]
  },
  {
   "cell_type": "markdown",
   "metadata": {},
   "source": [
    "## Sub( ) function"
   ]
  },
  {
   "cell_type": "code",
   "execution_count": 28,
   "metadata": {},
   "outputs": [
    {
     "name": "stdout",
     "output_type": "stream",
     "text": [
      "The9rain9in spain\n"
     ]
    }
   ],
   "source": [
    "import re\n",
    "txt = \"The rain in spain\"\n",
    "x = re.sub('\\s', '9', txt, 2)   # use to replace \n",
    "print(x)"
   ]
  },
  {
   "cell_type": "code",
   "execution_count": 29,
   "metadata": {},
   "outputs": [
    {
     "name": "stdout",
     "output_type": "stream",
     "text": [
      "The rain in spain\n"
     ]
    }
   ],
   "source": [
    "import re\n",
    "txt = \"The rain in         spain\"\n",
    "x = re.sub('\\s+', ' ', txt) \n",
    "print(x)"
   ]
  },
  {
   "cell_type": "code",
   "execution_count": 34,
   "metadata": {},
   "outputs": [
    {
     "name": "stdout",
     "output_type": "stream",
     "text": [
      "[]\n"
     ]
    }
   ],
   "source": [
    "import re\n",
    "txt = \"The rain in ahemdabad earth\"\n",
    "x = re.findall('^a', txt)\n",
    "print(x)"
   ]
  },
  {
   "cell_type": "code",
   "execution_count": 37,
   "metadata": {},
   "outputs": [
    {
     "data": {
      "text/plain": [
       "'2016/09/02'"
      ]
     },
     "execution_count": 37,
     "metadata": {},
     "output_type": "execute_result"
    }
   ],
   "source": [
    "import re\n",
    "url = 'https://www.washingtonpost.com/news/football-insides/wp/2016/09/02/odell'\n",
    "# spliturl = re.sub('/',' ',url)\n",
    "date = re.findall('\\d+', url)\n",
    "date = '/'.join(date)\n",
    "date"
   ]
  },
  {
   "cell_type": "code",
   "execution_count": 1,
   "metadata": {},
   "outputs": [
    {
     "name": "stdout",
     "output_type": "stream",
     "text": [
      "['8888888888', '7777777777', '6666666666']\n"
     ]
    }
   ],
   "source": [
    "import re\n",
    "num = '8888888888 7777777777 5555555555 6666666666 2123522135'\n",
    "x = re.findall('[6-9][0-9]{9}',num)\n",
    "print(x)"
   ]
  },
  {
   "cell_type": "code",
   "execution_count": 26,
   "metadata": {},
   "outputs": [
    {
     "name": "stdout",
     "output_type": "stream",
     "text": [
      "['abc.def@gmail.com', 'Moksh@yahoo.com']\n"
     ]
    }
   ],
   "source": [
    "# Fetch an Email.\n",
    "import re\n",
    "txt = \"My email id is abc.def@gmail.com contact me  Moksh@yahoo.com\"\n",
    "x = re.findall('[a-zA-Z0-9.]*@\\w+.com', txt)\n",
    "print(x)"
   ]
  }
 ],
 "metadata": {
  "kernelspec": {
   "display_name": "Python 3",
   "language": "python",
   "name": "python3"
  },
  "language_info": {
   "codemirror_mode": {
    "name": "ipython",
    "version": 3
   },
   "file_extension": ".py",
   "mimetype": "text/x-python",
   "name": "python",
   "nbconvert_exporter": "python",
   "pygments_lexer": "ipython3",
   "version": "3.8.5"
  }
 },
 "nbformat": 4,
 "nbformat_minor": 4
}
