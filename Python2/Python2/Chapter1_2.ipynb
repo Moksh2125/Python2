{
 "cells": [
  {
   "cell_type": "code",
   "execution_count": 21,
   "metadata": {},
   "outputs": [
    {
     "name": "stdout",
     "output_type": "stream",
     "text": [
      "                                                  lead\n",
      "movie                                                 \n",
      "Uri: The Surgical Strike                 Vicky Kaushal\n",
      "Battalion 609                              Vicky Ahuja\n",
      "The Accidental Prime Minister (film)       Anupam Kher\n",
      "Why Cheat India                          Emraan Hashmi\n",
      "Evening Shadows                       Mona Ambegaonkar\n",
      "...                                                ...\n",
      "Hum Tumhare Hain Sanam                  Shah Rukh Khan\n",
      "Aankhen (2002 film)                   Amitabh Bachchan\n",
      "Saathiya (film)                           Vivek Oberoi\n",
      "Company (film)                              Ajay Devgn\n",
      "Awara Paagal Deewana                      Akshay Kumar\n",
      "\n",
      "[1500 rows x 1 columns]\n"
     ]
    }
   ],
   "source": [
    "import pandas as pd\n",
    "movies =  pd.read_csv(\"bollywood.csv\", index_col = 'movie')\n",
    "print(movies)\n"
   ]
  },
  {
   "cell_type": "code",
   "execution_count": 26,
   "metadata": {},
   "outputs": [
    {
     "name": "stdout",
     "output_type": "stream",
     "text": [
      "                                                  lead\n",
      "movie                                                 \n",
      "Uri: The Surgical Strike                 Vicky Kaushal\n",
      "Battalion 609                              Vicky Ahuja\n",
      "The Accidental Prime Minister (film)       Anupam Kher\n",
      "Why Cheat India                          Emraan Hashmi\n",
      "Evening Shadows                       Mona Ambegaonkar\n",
      "...                                                ...\n",
      "Hum Tumhare Hain Sanam                  Shah Rukh Khan\n",
      "Aankhen (2002 film)                   Amitabh Bachchan\n",
      "Saathiya (film)                           Vivek Oberoi\n",
      "Company (film)                              Ajay Devgn\n",
      "Awara Paagal Deewana                      Akshay Kumar\n",
      "\n",
      "[1500 rows x 1 columns]\n"
     ]
    }
   ],
   "source": [
    "import pandas as pd\n",
    "movies =  pd.read_csv(\"bollywood.csv\", index_col = 'movie')\n",
    "print(movies)"
   ]
  },
  {
   "cell_type": "code",
   "execution_count": 22,
   "metadata": {},
   "outputs": [
    {
     "name": "stdout",
     "output_type": "stream",
     "text": [
      "movie\n",
      "Uri: The Surgical Strike                   Vicky Kaushal\n",
      "Battalion 609                                Vicky Ahuja\n",
      "The Accidental Prime Minister (film)         Anupam Kher\n",
      "Why Cheat India                            Emraan Hashmi\n",
      "Evening Shadows                         Mona Ambegaonkar\n",
      "                                              ...       \n",
      "Hum Tumhare Hain Sanam                    Shah Rukh Khan\n",
      "Aankhen (2002 film)                     Amitabh Bachchan\n",
      "Saathiya (film)                             Vivek Oberoi\n",
      "Company (film)                                Ajay Devgn\n",
      "Awara Paagal Deewana                        Akshay Kumar\n",
      "Name: lead, Length: 1500, dtype: object\n"
     ]
    }
   ],
   "source": [
    "print(movies['lead'])"
   ]
  },
  {
   "cell_type": "code",
   "execution_count": 2,
   "metadata": {},
   "outputs": [
    {
     "name": "stdout",
     "output_type": "stream",
     "text": [
      "                                                 movie\n",
      "lead                                                  \n",
      "Vicky Kaushal                 Uri: The Surgical Strike\n",
      "Vicky Ahuja                              Battalion 609\n",
      "Anupam Kher       The Accidental Prime Minister (film)\n",
      "Emraan Hashmi                          Why Cheat India\n",
      "Mona Ambegaonkar                       Evening Shadows\n",
      "...                                                ...\n",
      "Shah Rukh Khan                  Hum Tumhare Hain Sanam\n",
      "Amitabh Bachchan                   Aankhen (2002 film)\n",
      "Vivek Oberoi                           Saathiya (film)\n",
      "Ajay Devgn                              Company (film)\n",
      "Akshay Kumar                      Awara Paagal Deewana\n",
      "\n",
      "[1500 rows x 1 columns]\n"
     ]
    }
   ],
   "source": [
    "import pandas as pd\n",
    "movies =  pd.read_csv(\"bollywood.csv\", index_col = \"lead\")\n",
    "print(movies)"
   ]
  },
  {
   "cell_type": "code",
   "execution_count": 24,
   "metadata": {},
   "outputs": [
    {
     "name": "stdout",
     "output_type": "stream",
     "text": [
      "0          Vicky Kaushal\n",
      "1            Vicky Ahuja\n",
      "2            Anupam Kher\n",
      "3          Emraan Hashmi\n",
      "4       Mona Ambegaonkar\n",
      "              ...       \n",
      "1495      Shah Rukh Khan\n",
      "1496    Amitabh Bachchan\n",
      "1497        Vivek Oberoi\n",
      "1498          Ajay Devgn\n",
      "1499        Akshay Kumar\n",
      "Name: lead, Length: 1500, dtype: object\n"
     ]
    }
   ],
   "source": [
    "print(movies['lead'])"
   ]
  },
  {
   "cell_type": "code",
   "execution_count": 3,
   "metadata": {},
   "outputs": [
    {
     "name": "stdout",
     "output_type": "stream",
     "text": [
      "                                                 movie\n",
      "lead                                                  \n",
      "Vicky Kaushal                 Uri: The Surgical Strike\n",
      "Vicky Ahuja                              Battalion 609\n",
      "Anupam Kher       The Accidental Prime Minister (film)\n",
      "Emraan Hashmi                          Why Cheat India\n",
      "Mona Ambegaonkar                       Evening Shadows\n"
     ]
    }
   ],
   "source": [
    "print(movies.head())"
   ]
  },
  {
   "cell_type": "code",
   "execution_count": 9,
   "metadata": {},
   "outputs": [
    {
     "data": {
      "text/plain": [
       "RangeIndex(start=0, stop=1500, step=1)"
      ]
     },
     "execution_count": 9,
     "metadata": {},
     "output_type": "execute_result"
    }
   ],
   "source": [
    "import pandas as pd\n",
    "movies = pd.read_csv(\"Bollywood.csv\")\n",
    "movies.value_counts(\"lead\")"
   ]
  },
  {
   "cell_type": "code",
   "execution_count": 12,
   "metadata": {},
   "outputs": [
    {
     "name": "stdout",
     "output_type": "stream",
     "text": [
      "Series([], dtype: int64)\n"
     ]
    }
   ],
   "source": [
    "import pandas as pd\n",
    "movies = pd.read_csv(\"Bollywood.csv\")\n",
    "num_movies = movies.value_counts()\n",
    "print(num_movies[num_movies>20])"
   ]
  },
  {
   "cell_type": "code",
   "execution_count": null,
   "metadata": {},
   "outputs": [],
   "source": []
  }
 ],
 "metadata": {
  "kernelspec": {
   "display_name": "Python 3",
   "language": "python",
   "name": "python3"
  },
  "language_info": {
   "codemirror_mode": {
    "name": "ipython",
    "version": 3
   },
   "file_extension": ".py",
   "mimetype": "text/x-python",
   "name": "python",
   "nbconvert_exporter": "python",
   "pygments_lexer": "ipython3",
   "version": "3.8.5"
  }
 },
 "nbformat": 4,
 "nbformat_minor": 4
}
