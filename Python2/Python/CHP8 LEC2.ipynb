{
 "cells": [
  {
   "cell_type": "code",
   "execution_count": null,
   "metadata": {},
   "outputs": [],
   "source": [
    "# dbf6782ffd9b4349ac18778d0431ab27"
   ]
  },
  {
   "cell_type": "code",
   "execution_count": 10,
   "metadata": {},
   "outputs": [
    {
     "name": "stdout",
     "output_type": "stream",
     "text": [
      "          Date      Time  Temperature  Pressure  Humidity           Weather\n",
      "0   2025-05-29  06:00:00       279.15      1003        90   overcast clouds\n",
      "1   2025-05-29  09:00:00       278.85      1005        86   overcast clouds\n",
      "2   2025-05-29  12:00:00       278.80      1008        84   overcast clouds\n",
      "3   2025-05-29  15:00:00       279.14      1008        84   overcast clouds\n",
      "4   2025-05-29  18:00:00       279.53      1008        91   overcast clouds\n",
      "5   2025-05-29  21:00:00       280.17      1007        90        light rain\n",
      "6   2025-05-30  00:00:00       279.97      1007        91   overcast clouds\n",
      "7   2025-05-30  03:00:00       280.04      1006        89   overcast clouds\n",
      "8   2025-05-30  06:00:00       280.17      1005        86   overcast clouds\n",
      "9   2025-05-30  09:00:00       279.55      1004        96     moderate rain\n",
      "10  2025-05-30  12:00:00       279.54      1002        95     moderate rain\n",
      "11  2025-05-30  15:00:00       279.54      1002        95   overcast clouds\n",
      "12  2025-05-30  18:00:00       279.42      1002        92     broken clouds\n",
      "13  2025-05-30  21:00:00       279.62      1001        91  scattered clouds\n",
      "14  2025-05-31  00:00:00       279.81      1001        88  scattered clouds\n",
      "15  2025-05-31  03:00:00       279.67      1001        92     broken clouds\n",
      "16  2025-05-31  06:00:00       279.32      1001        97        light rain\n",
      "17  2025-05-31  09:00:00       276.49      1005        92        light rain\n",
      "18  2025-05-31  12:00:00       277.25      1008        65   overcast clouds\n",
      "19  2025-05-31  15:00:00       277.28      1011        59     broken clouds\n",
      "20  2025-05-31  18:00:00       277.19      1013        60   overcast clouds\n",
      "21  2025-05-31  21:00:00       277.14      1014        59   overcast clouds\n",
      "22  2025-06-01  00:00:00       276.98      1015        59   overcast clouds\n",
      "23  2025-06-01  03:00:00       276.88      1016        56        light snow\n",
      "24  2025-06-01  06:00:00       276.75      1017        54   overcast clouds\n",
      "25  2025-06-01  09:00:00       276.77      1017        52     broken clouds\n",
      "26  2025-06-01  12:00:00       276.88      1018        53     broken clouds\n",
      "27  2025-06-01  15:00:00       277.18      1017        56   overcast clouds\n",
      "28  2025-06-01  18:00:00       277.39      1016        62   overcast clouds\n",
      "29  2025-06-01  21:00:00       277.51      1014        67   overcast clouds\n",
      "30  2025-06-02  00:00:00       277.59      1012        69   overcast clouds\n",
      "31  2025-06-02  03:00:00       278.12      1009        72   overcast clouds\n",
      "32  2025-06-02  06:00:00       278.16      1008        75   overcast clouds\n",
      "33  2025-06-02  09:00:00       277.99      1006        78   overcast clouds\n",
      "34  2025-06-02  12:00:00       278.41      1004        86   overcast clouds\n",
      "35  2025-06-02  15:00:00       278.73      1001        91   overcast clouds\n",
      "36  2025-06-02  18:00:00       279.86       998        89   overcast clouds\n",
      "37  2025-06-02  21:00:00       280.17       998        88        light rain\n",
      "38  2025-06-03  00:00:00       280.09       998        93   overcast clouds\n",
      "39  2025-06-03  03:00:00       279.85       998        96        light rain\n"
     ]
    }
   ],
   "source": [
    "import requests, json\n",
    "import numpy as np\n",
    "import pandas as pd\n",
    "#api_key=input(\"Enter API Key:\")\n",
    "#city=input(\"Enter City Name:\")\n",
    "url=f\"http://api.openweathermap.org/data/2.5/forecast?lat={72.5797}&lon={23.0216}&appid={api_key}\"\n",
    "response=requests.get(url)\n",
    "fivedays=response.json()\n",
    "#print(json.dumps(fivedays,indent=5))\n",
    "data={\"Date\":[],\"Time\":[],\"Temperature\":[],\"Pressure\":[],\"Humidity\":[],\"Weather\":[]}\n",
    "for i in fivedays[\"list\"]:\n",
    "    DT=i[\"dt_txt\"].split(\" \")\n",
    "    data[\"Date\"].append(DT[0])\n",
    "    data[\"Time\"].append(DT[1])\n",
    "    data[\"Temperature\"].append(i[\"main\"][\"temp\"])\n",
    "    data[\"Pressure\"].append(i[\"main\"][\"pressure\"])\n",
    "    data[\"Humidity\"].append(i[\"main\"][\"humidity\"])\n",
    "    data[\"Weather\"].append(i[\"weather\"][0][\"description\"])\n",
    "data=pd.DataFrame(data)\n",
    "print(data)"
   ]
  },
  {
   "cell_type": "code",
   "execution_count": 11,
   "metadata": {},
   "outputs": [],
   "source": [
    "# RBfT0OYvILpyA0WIJgOxUtCaZwQtgXnPwXX5cduE\n",
    "# NASA API"
   ]
  },
  {
   "cell_type": "code",
   "execution_count": 17,
   "metadata": {},
   "outputs": [],
   "source": [
    "url=\"https://api.nasa.gov/planetary/apod\"\n",
    "responses=requests.get(url,params={\"api_key\":\"RBfT0OYvILpyA0WIJgOxUtCaZwQtgXnPwXX5cduE\",\"count\":14})\n",
    "datedata=responses.json()"
   ]
  },
  {
   "cell_type": "code",
   "execution_count": 24,
   "metadata": {},
   "outputs": [
    {
     "name": "stdout",
     "output_type": "stream",
     "text": [
      "2012-06-02\n",
      "https://apod.nasa.gov/apod/image/1206/135M51OsservatorioMTM.jpg\n",
      "2013-07-20\n",
      "https://apod.nasa.gov/apod/image/1307/CometLemmon2013july13martin2004.jpg\n",
      "2000-06-17\n",
      "https://apod.nasa.gov/apod/image/0006/apollo17_night_big.jpg\n",
      "2020-07-16\n",
      "https://apod.nasa.gov/apod/image/2007/2020_07_14_NEOWISE_Suchy_Vrch_1500px.png\n",
      "2012-08-20\n",
      "https://apod.nasa.gov/apod/image/1208/sunfilament_dahl_1024.jpg\n",
      "2000-04-19\n",
      "https://apod.nasa.gov/apod/image/0004/qso582_sdss.gif\n",
      "2010-07-01\n",
      "https://apod.nasa.gov/apod/image/1007/ISS023-E-58455lrg.jpg\n",
      "2022-10-20\n",
      "https://apod.nasa.gov/apod/image/2210/stsci-pillarsofcreation.png\n",
      "2001-01-11\n",
      "https://apod.nasa.gov/apod/image/0101/catseye_composite_big.jpg\n",
      "1999-09-16\n",
      "https://apod.nasa.gov/apod/image/9909/catseye_expand.gif\n",
      "1999-07-01\n",
      "https://apod.nasa.gov/apod/image/9906/rover_apollo17_big.jpg\n",
      "1998-06-02\n",
      "https://apod.nasa.gov/apod/image/9806/butterfly_vlt_big.jpg\n",
      "2018-02-26\n"
     ]
    },
    {
     "ename": "KeyError",
     "evalue": "'hdurl'",
     "output_type": "error",
     "traceback": [
      "\u001b[1;31m---------------------------------------------------------------------------\u001b[0m",
      "\u001b[1;31mKeyError\u001b[0m                                  Traceback (most recent call last)",
      "\u001b[1;32m<ipython-input-24-643080085ca7>\u001b[0m in \u001b[0;36m<module>\u001b[1;34m\u001b[0m\n\u001b[0;32m      2\u001b[0m \u001b[1;32mfor\u001b[0m \u001b[0mi\u001b[0m \u001b[1;32min\u001b[0m \u001b[0mrange\u001b[0m\u001b[1;33m(\u001b[0m\u001b[0mlen\u001b[0m\u001b[1;33m(\u001b[0m\u001b[0mdatedata\u001b[0m\u001b[1;33m)\u001b[0m\u001b[1;33m)\u001b[0m\u001b[1;33m:\u001b[0m\u001b[1;33m\u001b[0m\u001b[1;33m\u001b[0m\u001b[0m\n\u001b[0;32m      3\u001b[0m     \u001b[0mprint\u001b[0m\u001b[1;33m(\u001b[0m\u001b[0mdatedata\u001b[0m\u001b[1;33m[\u001b[0m\u001b[0mi\u001b[0m\u001b[1;33m]\u001b[0m\u001b[1;33m[\u001b[0m\u001b[1;34m\"date\"\u001b[0m\u001b[1;33m]\u001b[0m\u001b[1;33m)\u001b[0m\u001b[1;33m\u001b[0m\u001b[1;33m\u001b[0m\u001b[0m\n\u001b[1;32m----> 4\u001b[1;33m     \u001b[0mprint\u001b[0m\u001b[1;33m(\u001b[0m\u001b[0mdatedata\u001b[0m\u001b[1;33m[\u001b[0m\u001b[0mi\u001b[0m\u001b[1;33m]\u001b[0m\u001b[1;33m[\u001b[0m\u001b[1;34m\"hdurl\"\u001b[0m\u001b[1;33m]\u001b[0m\u001b[1;33m)\u001b[0m\u001b[1;33m\u001b[0m\u001b[1;33m\u001b[0m\u001b[0m\n\u001b[0m\u001b[0;32m      5\u001b[0m \u001b[0mdf\u001b[0m\u001b[1;33m=\u001b[0m\u001b[0mpd\u001b[0m\u001b[1;33m.\u001b[0m\u001b[0mDataFrame\u001b[0m\u001b[1;33m(\u001b[0m\u001b[0mdf\u001b[0m\u001b[1;33m)\u001b[0m\u001b[1;33m\u001b[0m\u001b[1;33m\u001b[0m\u001b[0m\n\u001b[0;32m      6\u001b[0m \u001b[0mprint\u001b[0m\u001b[1;33m(\u001b[0m\u001b[0mdf\u001b[0m\u001b[1;33m)\u001b[0m\u001b[1;33m\u001b[0m\u001b[1;33m\u001b[0m\u001b[0m\n",
      "\u001b[1;31mKeyError\u001b[0m: 'hdurl'"
     ]
    }
   ],
   "source": [
    "df={\"Date\":[],\"url\":[]}\n",
    "for i in range(len(datedata)):\n",
    "    print(datedata[i][\"date\"])\n",
    "    print(datedata[i][\"hdurl\"])\n",
    "df=pd.DataFrame(df)\n",
    "print(df)"
   ]
  },
  {
   "cell_type": "code",
   "execution_count": 29,
   "metadata": {},
   "outputs": [],
   "source": [
    "api_key=\"RBfT0OYvILpyA0WIJgOxUtCaZwQtgXnPwXX5cduE\"\n",
    "url=\"https://api.nasa.gov/mars-photos/api/v1/rovers/curiosity/photos?sol=1000&page=2&api_key=\"+api_key\n",
    "responses=requests.get(url,params={\"count\":14})\n",
    "datedata=responses.json()"
   ]
  },
  {
   "cell_type": "code",
   "execution_count": 30,
   "metadata": {},
   "outputs": [
    {
     "name": "stdout",
     "output_type": "stream",
     "text": [
      "{'error': {'code': 'OVER_RATE_LIMIT', 'message': 'You have exceeded your rate limit. Try again later or contact us at https://api.nasa.gov:443/contact/ for assistance'}}\n"
     ]
    }
   ],
   "source": [
    "print(datedata)"
   ]
  },
  {
   "cell_type": "markdown",
   "metadata": {},
   "source": []
  },
  {
   "cell_type": "markdown",
   "metadata": {},
   "source": []
  },
  {
   "cell_type": "code",
   "execution_count": null,
   "metadata": {},
   "outputs": [],
   "source": []
  }
 ],
 "metadata": {
  "kernelspec": {
   "display_name": "Python 3",
   "language": "python",
   "name": "python3"
  },
  "language_info": {
   "codemirror_mode": {
    "name": "ipython",
    "version": 3
   },
   "file_extension": ".py",
   "mimetype": "text/x-python",
   "name": "python",
   "nbconvert_exporter": "python",
   "pygments_lexer": "ipython3",
   "version": "3.8.5"
  }
 },
 "nbformat": 4,
 "nbformat_minor": 4
}
