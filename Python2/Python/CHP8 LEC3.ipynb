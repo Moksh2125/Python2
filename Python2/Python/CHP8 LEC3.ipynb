{
 "cells": [
  {
   "cell_type": "markdown",
   "metadata": {},
   "source": [
    "# Socket Programming:"
   ]
  },
  {
   "cell_type": "markdown",
   "metadata": {},
   "source": [
    "## TCP"
   ]
  },
  {
   "cell_type": "code",
   "execution_count": 9,
   "metadata": {},
   "outputs": [
    {
     "name": "stdout",
     "output_type": "stream",
     "text": [
      "Overwriting TCP_Server.py\n"
     ]
    }
   ],
   "source": [
    "%%writefile TCP_Server.py\n",
    "import socket\n",
    "host=socket.gethostname()\n",
    "port=2000\n",
    "Addr=(host,port)\n",
    "server_socket=socket.socket()\n",
    "server_socket.bind(Addr)\n",
    "server_socket.listen()\n",
    "conn,addr=server_socket.accept()\n",
    "print(\"Connection from \",str(addr))\n",
    "while True:\n",
    "    data=conn.recv(1024).decode()\n",
    "    if not data:\n",
    "        break\n",
    "    print(data)\n",
    "    data=input(\"->\")\n",
    "    conn.send(data.encode())\n",
    "conn.close()"
   ]
  },
  {
   "cell_type": "code",
   "execution_count": 10,
   "metadata": {},
   "outputs": [
    {
     "name": "stdout",
     "output_type": "stream",
     "text": [
      "Overwriting TCP_Client.py\n"
     ]
    }
   ],
   "source": [
    "%%writefile TCP_Client.py\n",
    "import socket\n",
    "host=\"192.168.104.99\"\n",
    "port=2000\n",
    "Addr=(host,port)\n",
    "client_socket=socket.socket()\n",
    "client_socket.connect(Addr)\n",
    "message=input(\"->\")\n",
    "while message!=\"\":\n",
    "    client_socket.send(message.encode())\n",
    "    data=client_socket.recv(1024).decode()\n",
    "    print(\"Received from server ->\",data)\n",
    "    message=input(\"->\")\n",
    "client_socket.close()"
   ]
  },
  {
   "cell_type": "markdown",
   "metadata": {},
   "source": [
    "## UDP"
   ]
  },
  {
   "cell_type": "code",
   "execution_count": 13,
   "metadata": {},
   "outputs": [
    {
     "name": "stdout",
     "output_type": "stream",
     "text": [
      "Overwriting UDP_Server.py\n"
     ]
    }
   ],
   "source": [
    "%%writefile UDP_Server.py\n",
    "import socket\n",
    "host=socket.gethostname()\n",
    "port=5000\n",
    "udp_server=socket.socket(type=socket.SOCK_DGRAM)\n",
    "udp_server.bind((host,port))\n",
    "while True:\n",
    "    print(\"Waiting for Message\")\n",
    "    data,addr=udp_server.recvfrom(1024)\n",
    "    print(\"Received:\",data.decode(),\"from\",addr)\n",
    "    msg=input('->')\n",
    "    udp_server.sendto(msg.encode(),addr)\n",
    "udp_server.close()"
   ]
  },
  {
   "cell_type": "code",
   "execution_count": 17,
   "metadata": {},
   "outputs": [
    {
     "name": "stdout",
     "output_type": "stream",
     "text": [
      "Overwriting UDP_Client.py\n"
     ]
    }
   ],
   "source": [
    "%%writefile UDP_Client.py\n",
    "import socket\n",
    "host=\"192.168.104.103\"\n",
    "port=5000\n",
    "udp_client=socket.socket(type=socket.SOCK_DGRAM)\n",
    "while True:\n",
    "    data=input(\"Enter Data to Send:\")\n",
    "    if not data:\n",
    "        break\n",
    "    udp_client.sendto(data.encode(),(host,port))\n",
    "    print(\"Ready to Receive Data\")\n",
    "    data,addr=udp_client.recvfrom(1024)\n",
    "    if not data:\n",
    "        break\n",
    "    print(\"Received:\",data.decode())\n",
    "udp_client.close()"
   ]
  },
  {
   "cell_type": "markdown",
   "metadata": {},
   "source": [
    "# TCP practice"
   ]
  },
  {
   "cell_type": "code",
   "execution_count": 40,
   "metadata": {},
   "outputs": [
    {
     "name": "stdout",
     "output_type": "stream",
     "text": [
      "Overwriting TCP_Server1.py\n"
     ]
    }
   ],
   "source": [
    "%%writefile TCP_Server1.py\n",
    "import socket\n",
    "host=socket.gethostname()\n",
    "port=2000\n",
    "Addr=(host,port)\n",
    "server_socket=socket.socket()\n",
    "server_socket.bind(Addr)\n",
    "server_socket.listen()\n",
    "conn,addr=server_socket.accept()\n",
    "print(\"Connection from \",str(addr))\n",
    "while True:\n",
    "    data=conn.recv(1024).decode()\n",
    "    if not data:\n",
    "        break\n",
    "    conn.send(bytes(data*data).decode())\n",
    "conn.close()"
   ]
  },
  {
   "cell_type": "code",
   "execution_count": 41,
   "metadata": {},
   "outputs": [
    {
     "name": "stdout",
     "output_type": "stream",
     "text": [
      "Overwriting TCP_Client1.py\n"
     ]
    }
   ],
   "source": [
    "%%writefile TCP_Client1.py\n",
    "import socket\n",
    "host=socket.gethostname()\n",
    "port=2000\n",
    "Addr=(host,port)\n",
    "client_socket=socket.socket()\n",
    "client_socket.connect(Addr)\n",
    "message=input(\"Number to be squared->\")\n",
    "while message!=\"\":\n",
    "    client_socket.send(message.encode())\n",
    "    data=client_socket.recv(1024).decode()\n",
    "    print(\"Squared Number:\",data)\n",
    "    message=input(\"Number to be squared->\")\n",
    "client_socket.close()"
   ]
  },
  {
   "cell_type": "code",
   "execution_count": null,
   "metadata": {},
   "outputs": [],
   "source": []
  },
  {
   "cell_type": "code",
   "execution_count": null,
   "metadata": {},
   "outputs": [],
   "source": []
  }
 ],
 "metadata": {
  "kernelspec": {
   "display_name": "Python 3",
   "language": "python",
   "name": "python3"
  },
  "language_info": {
   "codemirror_mode": {
    "name": "ipython",
    "version": 3
   },
   "file_extension": ".py",
   "mimetype": "text/x-python",
   "name": "python",
   "nbconvert_exporter": "python",
   "pygments_lexer": "ipython3",
   "version": "3.8.5"
  }
 },
 "nbformat": 4,
 "nbformat_minor": 4
}
