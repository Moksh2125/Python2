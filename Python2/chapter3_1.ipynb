{
 "cells": [
  {
   "cell_type": "markdown",
   "metadata": {},
   "source": [
    "# Regular Expression"
   ]
  },
  {
   "cell_type": "markdown",
   "metadata": {},
   "source": [
    "1. findall - returns a list containing all the matches\n",
    "2. search - returns a match object if there is a match\n",
    "3. split - return a list where string has been split at each match\n",
    "4. sub - replaces one or many matches with a string\n",
    "* [] - A set of characters '[a-m]'\n",
    "* \\ - signals a special sequence  \"\\d\"\n",
    "* . - any character   \"he....o\"\n",
    "* ^ - starts with   \"^hello\"\n",
    "* $ - ends with  \"planet$\"\n",
    "* '*' - zero or more occurance \"he..*o\"\n",
    "* '+' - one or more occurance \"he..+o\"\n",
    "* '?' - zero or one occurance \"he..?o\"\n",
    "* {} - specific one \"hel{2}o\"\n",
    "* | - either or \"falls | stays\""
   ]
  },
  {
   "cell_type": "markdown",
   "metadata": {},
   "source": [
    "## 1 Findall"
   ]
  },
  {
   "cell_type": "code",
   "execution_count": 2,
   "metadata": {},
   "outputs": [
    {
     "name": "stdout",
     "output_type": "stream",
     "text": [
      "['ai', 'ai']\n"
     ]
    }
   ],
   "source": [
    "import re\n",
    "txt = 'The rain in spain'\n",
    "x = re.findall(\"ai\",txt)\n",
    "print(x)"
   ]
  },
  {
   "cell_type": "code",
   "execution_count": 10,
   "metadata": {},
   "outputs": [
    {
     "name": "stdout",
     "output_type": "stream",
     "text": [
      "['r', 'a', 'i', 'n', 'i', 'n', 'a', 'i', 'n']\n",
      "['T', 'h', 'e', ' ', 'i', ' ', 'i', ' ', 's', 'p', 'i']\n"
     ]
    }
   ],
   "source": [
    "import re\n",
    "txt = 'The rain in spain'\n",
    "x1 = re.findall(\"[arn]\",txt)\n",
    "x2 = re.findall(\"[^arn]\",txt)  # When using inside the box, it consider as except arn\n",
    "print(x1)\n",
    "print(x2)"
   ]
  },
  {
   "cell_type": "code",
   "execution_count": 5,
   "metadata": {},
   "outputs": [
    {
     "name": "stdout",
     "output_type": "stream",
     "text": [
      "[]\n"
     ]
    }
   ],
   "source": [
    "import re\n",
    "txt = 'The rain in spain'\n",
    "x = re.findall(\"portugal\",txt)\n",
    "print(x)"
   ]
  },
  {
   "cell_type": "code",
   "execution_count": 18,
   "metadata": {},
   "outputs": [
    {
     "name": "stdout",
     "output_type": "stream",
     "text": [
      "['5', '3', '4']\n",
      "['5', '34']\n"
     ]
    }
   ],
   "source": [
    "import re\n",
    "txt = 'The rain in 5w 34 spain'\n",
    "x = re.findall('\\d',txt)    # \\d is used for finding digits\n",
    "x2 = re.findall('\\d+',txt)    # \\d is used for finding digits\n",
    "print(x) \n",
    "print(x2)"
   ]
  },
  {
   "cell_type": "code",
   "execution_count": 22,
   "metadata": {},
   "outputs": [
    {
     "name": "stdout",
     "output_type": "stream",
     "text": [
      "['hello'] ['helo']\n"
     ]
    }
   ],
   "source": [
    "import re\n",
    "txt = 'hello planet helo'\n",
    "x = re.findall(\"he..o\",txt)\n",
    "x2 = re.findall(\"he.o\",txt)\n",
    "\n",
    "print(x, x2)"
   ]
  },
  {
   "cell_type": "code",
   "execution_count": 23,
   "metadata": {},
   "outputs": [
    {
     "name": "stdout",
     "output_type": "stream",
     "text": [
      "['hello'] ['helo']\n"
     ]
    }
   ],
   "source": [
    "import re\n",
    "txt = 'hello planet helo'\n",
    "x = re.findall(\"he..o\",txt)\n",
    "x2 = re.findall(\"he.o\",txt)\n",
    "\n",
    "print(x, x2)"
   ]
  },
  {
   "cell_type": "code",
   "execution_count": 27,
   "metadata": {},
   "outputs": [
    {
     "name": "stdout",
     "output_type": "stream",
     "text": [
      "['planet']\n"
     ]
    }
   ],
   "source": [
    "import re\n",
    "txt = \"hello planet\"\n",
    "x = re.findall('planet$', txt)\n",
    "print(x)"
   ]
  },
  {
   "cell_type": "code",
   "execution_count": 32,
   "metadata": {},
   "outputs": [
    {
     "name": "stdout",
     "output_type": "stream",
     "text": [
      "['hello hellaro']\n",
      "['hello hellar heo']\n",
      "['hello hellar heo']\n",
      "['helo', 'heo']\n",
      "['hello']\n"
     ]
    }
   ],
   "source": [
    "txt = 'hello hellaro'\n",
    "txt2 = 'helo hello hellar heo'\n",
    "x = re.findall('hell.*o', txt)\n",
    "x2 = re.findall('hell.*o', txt2)\n",
    "x3 = re.findall(\"hell.+o\", txt2)\n",
    "x4 = re.findall(\"he.?o\", txt2)\n",
    "x5 = re.findall(\"he.{2}o\", txt2)\n",
    "\n",
    "print(x)\n",
    "print(x2)\n",
    "print(x3)\n",
    "print(x4)\n",
    "print(x5)"
   ]
  },
  {
   "cell_type": "code",
   "execution_count": 38,
   "metadata": {},
   "outputs": [
    {
     "name": "stdout",
     "output_type": "stream",
     "text": [
      "['spain', 'plain']\n"
     ]
    }
   ],
   "source": [
    "import re\n",
    "txt = \"The rain in spain falls mainly in the plain!\"\n",
    "x = re.findall(\"spain|plain\", txt)\n",
    "print(x)"
   ]
  }
 ],
 "metadata": {
  "kernelspec": {
   "display_name": "Python 3",
   "language": "python",
   "name": "python3"
  },
  "language_info": {
   "codemirror_mode": {
    "name": "ipython",
    "version": 3
   },
   "file_extension": ".py",
   "mimetype": "text/x-python",
   "name": "python",
   "nbconvert_exporter": "python",
   "pygments_lexer": "ipython3",
   "version": "3.8.5"
  }
 },
 "nbformat": 4,
 "nbformat_minor": 4
}
